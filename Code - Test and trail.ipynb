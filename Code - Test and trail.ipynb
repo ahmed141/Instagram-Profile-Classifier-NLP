{
 "cells": [
  {
   "cell_type": "code",
   "execution_count": 1,
   "metadata": {
    "tags": []
   },
   "outputs": [
    {
     "name": "stderr",
     "output_type": "stream",
     "text": [
      "2020-07-22 20:46:02.106 INFO in 'deeppavlov.download'['download'] at line 132: Skipped http://files.deeppavlov.ai/deeppavlov_data/ner_ontonotes_bert_mult_v1.tar.gz download because of matching hashes\n",
      "2020-07-22 20:46:04.928 INFO in 'deeppavlov.download'['download'] at line 132: Skipped http://files.deeppavlov.ai/deeppavlov_data/bert/multi_cased_L-12_H-768_A-12.zip download because of matching hashes\n",
      "[nltk_data] Downloading package punkt to C:\\Users\\Ahmed\n",
      "[nltk_data]     Shahzad\\AppData\\Roaming\\nltk_data...\n",
      "[nltk_data]   Package punkt is already up-to-date!\n",
      "[nltk_data] Downloading package stopwords to C:\\Users\\Ahmed\n",
      "[nltk_data]     Shahzad\\AppData\\Roaming\\nltk_data...\n",
      "[nltk_data]   Package stopwords is already up-to-date!\n",
      "[nltk_data] Downloading package perluniprops to C:\\Users\\Ahmed\n",
      "[nltk_data]     Shahzad\\AppData\\Roaming\\nltk_data...\n",
      "[nltk_data]   Package perluniprops is already up-to-date!\n",
      "[nltk_data] Downloading package nonbreaking_prefixes to C:\\Users\\Ahmed\n",
      "[nltk_data]     Shahzad\\AppData\\Roaming\\nltk_data...\n",
      "[nltk_data]   Package nonbreaking_prefixes is already up-to-date!\n",
      "2020-07-22 20:46:09.785 INFO in 'deeppavlov.core.data.simple_vocab'['simple_vocab'] at line 115: [loading vocabulary from C:\\Users\\Ahmed Shahzad\\.deeppavlov\\models\\ner_ontonotes_bert_mult\\tag.dict]\n",
      "2020-07-22 20:46:29.578 INFO in 'deeppavlov.core.models.tf_model'['tf_model'] at line 51: [loading model from C:\\Users\\Ahmed Shahzad\\.deeppavlov\\models\\ner_ontonotes_bert_mult\\model]\n"
     ]
    }
   ],
   "source": [
    "import pandas as pd\n",
    "from main import check_name_existance"
   ]
  },
  {
   "cell_type": "code",
   "execution_count": 5,
   "metadata": {},
   "outputs": [
    {
     "name": "stderr",
     "output_type": "stream",
     "text": [
      "2020-07-22 20:47:28.212 INFO in 'deeppavlov.download'['download'] at line 132: Skipped http://files.deeppavlov.ai/deeppavlov_data/ner_ontonotes_bert_mult_v1.tar.gz download because of matching hashes\n",
      "2020-07-22 20:47:29.950 INFO in 'deeppavlov.download'['download'] at line 132: Skipped http://files.deeppavlov.ai/deeppavlov_data/bert/multi_cased_L-12_H-768_A-12.zip download because of matching hashes\n",
      "2020-07-22 20:47:30.217 INFO in 'deeppavlov.core.data.simple_vocab'['simple_vocab'] at line 115: [loading vocabulary from C:\\Users\\Ahmed Shahzad\\.deeppavlov\\models\\ner_ontonotes_bert_mult\\tag.dict]\n",
      "2020-07-22 20:47:51.493 INFO in 'deeppavlov.core.models.tf_model'['tf_model'] at line 51: [loading model from C:\\Users\\Ahmed Shahzad\\.deeppavlov\\models\\ner_ontonotes_bert_mult\\model]\n"
     ]
    }
   ],
   "source": [
    "import tensorflow as tf\n",
    "from deeppavlov import configs, build_model\n",
    "tf.compat.v1.logging.set_verbosity(tf.compat.v1.logging.ERROR)\n",
    "ner_model = build_model(configs.ner.ner_ontonotes_bert_mult, download=True)"
   ]
  },
  {
   "cell_type": "code",
   "execution_count": 11,
   "metadata": {},
   "outputs": [
    {
     "data": {
      "text/plain": [
       "[[['shorya', 'gujjar', 'influencer']], [['O', 'O', 'O']]]"
      ]
     },
     "execution_count": 11,
     "metadata": {},
     "output_type": "execute_result"
    }
   ],
   "source": [
    "ner_model([\"shorya gujjar influencer\"])"
   ]
  },
  {
   "cell_type": "code",
   "execution_count": null,
   "metadata": {},
   "outputs": [],
   "source": []
  },
  {
   "cell_type": "code",
   "execution_count": 2,
   "metadata": {},
   "outputs": [],
   "source": [
    "df = pd.read_excel('sample.xlsx')"
   ]
  },
  {
   "cell_type": "code",
   "execution_count": 3,
   "metadata": {},
   "outputs": [],
   "source": [
    "df['full_name'] = df['full_name'].astype(str)\n",
    "df['biography'] = df['biography'].astype(str)"
   ]
  },
  {
   "cell_type": "code",
   "execution_count": 4,
   "metadata": {},
   "outputs": [
    {
     "data": {
      "text/html": [
       "<div>\n",
       "<style scoped>\n",
       "    .dataframe tbody tr th:only-of-type {\n",
       "        vertical-align: middle;\n",
       "    }\n",
       "\n",
       "    .dataframe tbody tr th {\n",
       "        vertical-align: top;\n",
       "    }\n",
       "\n",
       "    .dataframe thead th {\n",
       "        text-align: right;\n",
       "    }\n",
       "</style>\n",
       "<table border=\"1\" class=\"dataframe\">\n",
       "  <thead>\n",
       "    <tr style=\"text-align: right;\">\n",
       "      <th></th>\n",
       "      <th>full_name</th>\n",
       "      <th>biography</th>\n",
       "    </tr>\n",
       "  </thead>\n",
       "  <tbody>\n",
       "    <tr>\n",
       "      <th>0</th>\n",
       "      <td>YOUTUBE INTROS , LOGOS +</td>\n",
       "      <td>💎please read highlights before purchasing \\n💎s...</td>\n",
       "    </tr>\n",
       "    <tr>\n",
       "      <th>1</th>\n",
       "      <td>Pangga Designs Co | Stationery</td>\n",
       "      <td>We are proud to offer personalized stationery,...</td>\n",
       "    </tr>\n",
       "    <tr>\n",
       "      <th>2</th>\n",
       "      <td>06MEDIA</td>\n",
       "      <td>06Media have been developing brand strategies,...</td>\n",
       "    </tr>\n",
       "    <tr>\n",
       "      <th>3</th>\n",
       "      <td>Download Free Logo Design</td>\n",
       "      <td>⬇️ Download ⭐ PREMIUM ⭐ Stock Logo FREE  in 5 ...</td>\n",
       "    </tr>\n",
       "    <tr>\n",
       "      <th>4</th>\n",
       "      <td>Tommy Hill Promotions</td>\n",
       "      <td>A bespoke design/Marketing company -Design/Las...</td>\n",
       "    </tr>\n",
       "    <tr>\n",
       "      <th>...</th>\n",
       "      <td>...</td>\n",
       "      <td>...</td>\n",
       "    </tr>\n",
       "    <tr>\n",
       "      <th>15427</th>\n",
       "      <td>Adam Fadilah ILyas</td>\n",
       "      <td>CP: Adam 0812-1482-8877 Permata Regency Tasikm...</td>\n",
       "    </tr>\n",
       "    <tr>\n",
       "      <th>15428</th>\n",
       "      <td>Richfield Lagos</td>\n",
       "      <td>The official #Instagram account of #RichfieldL...</td>\n",
       "    </tr>\n",
       "    <tr>\n",
       "      <th>15429</th>\n",
       "      <td>Pride Projects|Real Estate</td>\n",
       "      <td>▪️شركة مقاولات وإستثمار عقاري\\n▫️ معاً نحو بنا...</td>\n",
       "    </tr>\n",
       "    <tr>\n",
       "      <th>15430</th>\n",
       "      <td>GabettiVieste</td>\n",
       "      <td>Vi assistiamo in tutte le fasi della compraven...</td>\n",
       "    </tr>\n",
       "    <tr>\n",
       "      <th>15431</th>\n",
       "      <td>CPC Finance</td>\n",
       "      <td>💴 Specialist UK Property Finance Broker \\n🥇 Be...</td>\n",
       "    </tr>\n",
       "  </tbody>\n",
       "</table>\n",
       "<p>15432 rows × 2 columns</p>\n",
       "</div>"
      ],
      "text/plain": [
       "                            full_name  \\\n",
       "0            YOUTUBE INTROS , LOGOS +   \n",
       "1      Pangga Designs Co | Stationery   \n",
       "2                             06MEDIA   \n",
       "3           Download Free Logo Design   \n",
       "4               Tommy Hill Promotions   \n",
       "...                               ...   \n",
       "15427              Adam Fadilah ILyas   \n",
       "15428                 Richfield Lagos   \n",
       "15429      Pride Projects|Real Estate   \n",
       "15430                   GabettiVieste   \n",
       "15431                     CPC Finance   \n",
       "\n",
       "                                               biography  \n",
       "0      💎please read highlights before purchasing \\n💎s...  \n",
       "1      We are proud to offer personalized stationery,...  \n",
       "2      06Media have been developing brand strategies,...  \n",
       "3      ⬇️ Download ⭐ PREMIUM ⭐ Stock Logo FREE  in 5 ...  \n",
       "4      A bespoke design/Marketing company -Design/Las...  \n",
       "...                                                  ...  \n",
       "15427  CP: Adam 0812-1482-8877 Permata Regency Tasikm...  \n",
       "15428  The official #Instagram account of #RichfieldL...  \n",
       "15429  ▪️شركة مقاولات وإستثمار عقاري\\n▫️ معاً نحو بنا...  \n",
       "15430  Vi assistiamo in tutte le fasi della compraven...  \n",
       "15431  💴 Specialist UK Property Finance Broker \\n🥇 Be...  \n",
       "\n",
       "[15432 rows x 2 columns]"
      ]
     },
     "execution_count": 4,
     "metadata": {},
     "output_type": "execute_result"
    }
   ],
   "source": [
    "df"
   ]
  },
  {
   "cell_type": "code",
   "execution_count": 5,
   "metadata": {},
   "outputs": [],
   "source": [
    "df['full_name_Exist'] = df['full_name'].apply(check_name_existance)"
   ]
  },
  {
   "cell_type": "code",
   "execution_count": 6,
   "metadata": {},
   "outputs": [
    {
     "data": {
      "text/html": [
       "<div>\n",
       "<style scoped>\n",
       "    .dataframe tbody tr th:only-of-type {\n",
       "        vertical-align: middle;\n",
       "    }\n",
       "\n",
       "    .dataframe tbody tr th {\n",
       "        vertical-align: top;\n",
       "    }\n",
       "\n",
       "    .dataframe thead th {\n",
       "        text-align: right;\n",
       "    }\n",
       "</style>\n",
       "<table border=\"1\" class=\"dataframe\">\n",
       "  <thead>\n",
       "    <tr style=\"text-align: right;\">\n",
       "      <th></th>\n",
       "      <th>full_name</th>\n",
       "      <th>biography</th>\n",
       "      <th>full_name_Exist</th>\n",
       "    </tr>\n",
       "  </thead>\n",
       "  <tbody>\n",
       "    <tr>\n",
       "      <th>0</th>\n",
       "      <td>YOUTUBE INTROS , LOGOS +</td>\n",
       "      <td>💎please read highlights before purchasing \\n💎s...</td>\n",
       "      <td>False</td>\n",
       "    </tr>\n",
       "    <tr>\n",
       "      <th>1</th>\n",
       "      <td>Pangga Designs Co | Stationery</td>\n",
       "      <td>We are proud to offer personalized stationery,...</td>\n",
       "      <td>False</td>\n",
       "    </tr>\n",
       "    <tr>\n",
       "      <th>2</th>\n",
       "      <td>06MEDIA</td>\n",
       "      <td>06Media have been developing brand strategies,...</td>\n",
       "      <td>False</td>\n",
       "    </tr>\n",
       "    <tr>\n",
       "      <th>3</th>\n",
       "      <td>Download Free Logo Design</td>\n",
       "      <td>⬇️ Download ⭐ PREMIUM ⭐ Stock Logo FREE  in 5 ...</td>\n",
       "      <td>False</td>\n",
       "    </tr>\n",
       "    <tr>\n",
       "      <th>4</th>\n",
       "      <td>Tommy Hill Promotions</td>\n",
       "      <td>A bespoke design/Marketing company -Design/Las...</td>\n",
       "      <td>False</td>\n",
       "    </tr>\n",
       "    <tr>\n",
       "      <th>...</th>\n",
       "      <td>...</td>\n",
       "      <td>...</td>\n",
       "      <td>...</td>\n",
       "    </tr>\n",
       "    <tr>\n",
       "      <th>15427</th>\n",
       "      <td>Adam Fadilah ILyas</td>\n",
       "      <td>CP: Adam 0812-1482-8877 Permata Regency Tasikm...</td>\n",
       "      <td>True</td>\n",
       "    </tr>\n",
       "    <tr>\n",
       "      <th>15428</th>\n",
       "      <td>Richfield Lagos</td>\n",
       "      <td>The official #Instagram account of #RichfieldL...</td>\n",
       "      <td>False</td>\n",
       "    </tr>\n",
       "    <tr>\n",
       "      <th>15429</th>\n",
       "      <td>Pride Projects|Real Estate</td>\n",
       "      <td>▪️شركة مقاولات وإستثمار عقاري\\n▫️ معاً نحو بنا...</td>\n",
       "      <td>False</td>\n",
       "    </tr>\n",
       "    <tr>\n",
       "      <th>15430</th>\n",
       "      <td>GabettiVieste</td>\n",
       "      <td>Vi assistiamo in tutte le fasi della compraven...</td>\n",
       "      <td>True</td>\n",
       "    </tr>\n",
       "    <tr>\n",
       "      <th>15431</th>\n",
       "      <td>CPC Finance</td>\n",
       "      <td>💴 Specialist UK Property Finance Broker \\n🥇 Be...</td>\n",
       "      <td>False</td>\n",
       "    </tr>\n",
       "  </tbody>\n",
       "</table>\n",
       "<p>15432 rows × 3 columns</p>\n",
       "</div>"
      ],
      "text/plain": [
       "                            full_name  \\\n",
       "0            YOUTUBE INTROS , LOGOS +   \n",
       "1      Pangga Designs Co | Stationery   \n",
       "2                             06MEDIA   \n",
       "3           Download Free Logo Design   \n",
       "4               Tommy Hill Promotions   \n",
       "...                               ...   \n",
       "15427              Adam Fadilah ILyas   \n",
       "15428                 Richfield Lagos   \n",
       "15429      Pride Projects|Real Estate   \n",
       "15430                   GabettiVieste   \n",
       "15431                     CPC Finance   \n",
       "\n",
       "                                               biography  full_name_Exist  \n",
       "0      💎please read highlights before purchasing \\n💎s...            False  \n",
       "1      We are proud to offer personalized stationery,...            False  \n",
       "2      06Media have been developing brand strategies,...            False  \n",
       "3      ⬇️ Download ⭐ PREMIUM ⭐ Stock Logo FREE  in 5 ...            False  \n",
       "4      A bespoke design/Marketing company -Design/Las...            False  \n",
       "...                                                  ...              ...  \n",
       "15427  CP: Adam 0812-1482-8877 Permata Regency Tasikm...             True  \n",
       "15428  The official #Instagram account of #RichfieldL...            False  \n",
       "15429  ▪️شركة مقاولات وإستثمار عقاري\\n▫️ معاً نحو بنا...            False  \n",
       "15430  Vi assistiamo in tutte le fasi della compraven...             True  \n",
       "15431  💴 Specialist UK Property Finance Broker \\n🥇 Be...            False  \n",
       "\n",
       "[15432 rows x 3 columns]"
      ]
     },
     "execution_count": 6,
     "metadata": {},
     "output_type": "execute_result"
    }
   ],
   "source": [
    "df"
   ]
  },
  {
   "cell_type": "code",
   "execution_count": 7,
   "metadata": {},
   "outputs": [],
   "source": [
    "df.to_csv('sample_RESULT.csv')"
   ]
  }
 ],
 "metadata": {
  "kernelspec": {
   "display_name": "Python 3",
   "language": "python",
   "name": "python3"
  },
  "language_info": {
   "codemirror_mode": {
    "name": "ipython",
    "version": 3
   },
   "file_extension": ".py",
   "mimetype": "text/x-python",
   "name": "python",
   "nbconvert_exporter": "python",
   "pygments_lexer": "ipython3",
   "version": "3.6.8"
  }
 },
 "nbformat": 4,
 "nbformat_minor": 4
}